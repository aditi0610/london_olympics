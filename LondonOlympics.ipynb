{
 "cells": [
  {
   "cell_type": "code",
   "execution_count": null,
   "metadata": {},
   "outputs": [],
   "source": [
    "#import necessory libraries"
   ]
  },
  {
   "cell_type": "code",
   "execution_count": 7,
   "metadata": {},
   "outputs": [],
   "source": [
    "import numpy as np"
   ]
  },
  {
   "cell_type": "code",
   "execution_count": null,
   "metadata": {},
   "outputs": [],
   "source": [
    "#dataset from summer Olympic London ,year 2012"
   ]
  },
  {
   "cell_type": "code",
   "execution_count": 8,
   "metadata": {},
   "outputs": [],
   "source": [
    "np_olympic_country = np.array(['GBR','CHN','RUS','US','KOR','JPN','GER'])\n",
    "np_olympic_country_Gold = np.array([29,38,24,46,13,7,11])\n",
    "np_olympic_country_Silver = np.array([17,28,25,28,8,14,11])\n",
    "np_olympic_country_Bronze = np.array([19,22,32,29,9,17,14])"
   ]
  },
  {
   "cell_type": "code",
   "execution_count": null,
   "metadata": {},
   "outputs": [],
   "source": [
    "#find country index maximum gold medals"
   ]
  },
  {
   "cell_type": "code",
   "execution_count": 9,
   "metadata": {},
   "outputs": [],
   "source": [
    "max_gold_index = np_olympic_country_Gold.argmax()"
   ]
  },
  {
   "cell_type": "code",
   "execution_count": 10,
   "metadata": {},
   "outputs": [],
   "source": [
    "country_with_max_gold = np_olympic_country[max_gold_index]"
   ]
  },
  {
   "cell_type": "code",
   "execution_count": null,
   "metadata": {},
   "outputs": [],
   "source": [
    "#print country with maximum gold"
   ]
  },
  {
   "cell_type": "code",
   "execution_count": 11,
   "metadata": {},
   "outputs": [
    {
     "name": "stdout",
     "output_type": "stream",
     "text": [
      "US\n"
     ]
    }
   ],
   "source": [
    "print(country_with_max_gold)"
   ]
  },
  {
   "cell_type": "code",
   "execution_count": null,
   "metadata": {},
   "outputs": [],
   "source": [
    "#countries who won more than 20 gold medals\n"
   ]
  },
  {
   "cell_type": "code",
   "execution_count": 12,
   "metadata": {},
   "outputs": [
    {
     "name": "stdout",
     "output_type": "stream",
     "text": [
      "['GBR' 'CHN' 'RUS' 'US']\n"
     ]
    }
   ],
   "source": [
    "print(np_olympic_country[np_olympic_country_Gold>20])"
   ]
  },
  {
   "cell_type": "code",
   "execution_count": null,
   "metadata": {},
   "outputs": [],
   "source": [
    "#print each country name with number of gold medal and total number of medal"
   ]
  },
  {
   "cell_type": "code",
   "execution_count": 15,
   "metadata": {},
   "outputs": [
    {
     "name": "stdout",
     "output_type": "stream",
     "text": [
      " GBR , gold medal 29 , total medals 65 \n",
      " CHN , gold medal 38 , total medals 88 \n",
      " RUS , gold medal 24 , total medals 81 \n",
      " US , gold medal 46 , total medals 103 \n",
      " KOR , gold medal 13 , total medals 30 \n",
      " JPN , gold medal 7 , total medals 38 \n",
      " GER , gold medal 11 , total medals 36 \n"
     ]
    }
   ],
   "source": [
    "for i in range(len(np_olympic_country)):\n",
    "    gold_medal = np_olympic_country_Gold[i]\n",
    "    country = np_olympic_country[i]\n",
    "    total_medal = np_olympic_country_Bronze[i]+np_olympic_country_Gold[i]+np_olympic_country_Silver[i]\n",
    "    print(' {} , gold medal {} , total medals {} '.format(country,gold_medal,total_medal))\n",
    "    \n",
    "               "
   ]
  },
  {
   "cell_type": "code",
   "execution_count": null,
   "metadata": {},
   "outputs": [],
   "source": []
  }
 ],
 "metadata": {
  "kernelspec": {
   "display_name": "Python 3",
   "language": "python",
   "name": "python3"
  },
  "language_info": {
   "codemirror_mode": {
    "name": "ipython",
    "version": 3
   },
   "file_extension": ".py",
   "mimetype": "text/x-python",
   "name": "python",
   "nbconvert_exporter": "python",
   "pygments_lexer": "ipython3",
   "version": "3.8.5"
  }
 },
 "nbformat": 4,
 "nbformat_minor": 4
}
